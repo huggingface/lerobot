{
 "cells": [
  {
   "cell_type": "code",
   "execution_count": null,
   "id": "6641bf30",
   "metadata": {},
   "outputs": [],
   "source": [
    "import torch\n",
    "from transformers import AutoProcessor, AutoModelForVision2Seq\n",
    "from transformers.image_utils import load_image\n",
    "\n",
    "DEVICE = \"cuda\" if torch.cuda.is_available() else \"cpu\"\n",
    "\n",
    "# Load multiple images\n",
    "image1 = load_image(\"https://cdn.britannica.com/61/93061-050-99147DCE/Statue-of-Liberty-Island-New-York-Bay.jpg\")\n",
    "\n",
    "# Initialize processor and model\n",
    "processor = AutoProcessor.from_pretrained(\"HuggingFaceTB/SmolVLM-Instruct\")\n",
    "\n",
    "# Define batch of messages (parallel prompts)\n",
    "messages = [\n",
    "    [   # Example 1: Statue of Liberty\n",
    "        {\n",
    "            \"role\": \"user\",\n",
    "            \"content\": [\n",
    "                {\"type\": \"image\"},\n",
    "                {\"type\": \"text\", \"text\": \"What landmark is in this picture?\"}\n",
    "            ],\n",
    "        }\n",
    "    ],\n",
    "    [   # Example 2: Eiffel Tower\n",
    "        {\n",
    "            \"role\": \"user\",\n",
    "            \"content\": [\n",
    "                {\"type\": \"image\"},\n",
    "                {\"type\": \"text\", \"text\": \"What landmark is shown here?\"}\n",
    "            ],\n",
    "        }\n",
    "    ]\n",
    "]\n",
    "\n",
    "# Prepare prompts for each sample\n",
    "prompts = [processor.apply_chat_template(m, add_generation_prompt=True) for m in messages]\n",
    "\n",
    "# Process inputs as a batch\n",
    "inputs = processor(\n",
    "    text=prompts,\n",
    "    images=[[image1], [image1]],   # list of images, same order as prompts\n",
    "    return_tensors=\"pt\",\n",
    "    padding=True\n",
    ").to(DEVICE)"
   ]
  },
  {
   "cell_type": "code",
   "execution_count": null,
   "id": "716d482a",
   "metadata": {},
   "outputs": [],
   "source": [
    "processor.tokenizer.eos_token_id"
   ]
  },
  {
   "cell_type": "code",
   "execution_count": null,
   "id": "cabfea02",
   "metadata": {},
   "outputs": [],
   "source": [
    "for k, v in inputs.items():\n",
    "    print(k, v.shape)"
   ]
  },
  {
   "cell_type": "code",
   "execution_count": null,
   "id": "eb7971e5",
   "metadata": {},
   "outputs": [],
   "source": [
    "print(inputs[\"input_ids\"].tolist())\n",
    "print(inputs[\"attention_mask\"].tolist())"
   ]
  }
 ],
 "metadata": {
  "kernelspec": {
   "display_name": ".lerobot",
   "language": "python",
   "name": "python3"
  },
  "language_info": {
   "codemirror_mode": {
    "name": "ipython",
    "version": 3
   },
   "file_extension": ".py",
   "mimetype": "text/x-python",
   "name": "python",
   "nbconvert_exporter": "python",
   "pygments_lexer": "ipython3",
   "version": "3.11.8"
  }
 },
 "nbformat": 4,
 "nbformat_minor": 5
}
