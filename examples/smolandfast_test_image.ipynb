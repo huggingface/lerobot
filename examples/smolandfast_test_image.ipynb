{
 "cells": [
  {
   "cell_type": "code",
   "execution_count": null,
   "id": "fdfec91b",
   "metadata": {},
   "outputs": [],
   "source": [
    "from pathlib import Path\n",
    "from tqdm import tqdm\n",
    "import torch\n",
    "from lerobot.datasets.utils import cycle\n",
    "\n",
    "from lerobot.configs.types import FeatureType\n",
    "from lerobot.datasets.lerobot_dataset import LeRobotDataset, LeRobotDatasetMetadata\n",
    "from lerobot.datasets.utils import dataset_to_policy_features\n",
    "from lerobot.policies.smolandfast.configuration_smolandfast import SMOLANDFASTConfig\n",
    "from lerobot.policies.smolandfast.modeling_smolandfast import SMOLANDFASTPolicy\n",
    "\n",
    "from lerobot.policies.factory import make_pre_post_processors"
   ]
  },
  {
   "cell_type": "code",
   "execution_count": null,
   "id": "a05fb55b",
   "metadata": {},
   "outputs": [],
   "source": [
    "output_directory = Path(\"outputs/train/example_pusht\")\n",
    "output_directory.mkdir(parents=True, exist_ok=True)\n",
    "\n",
    "device = torch.device(\"mps\")"
   ]
  },
  {
   "cell_type": "code",
   "execution_count": null,
   "id": "fad8c876",
   "metadata": {},
   "outputs": [],
   "source": [
    "DATASET_PATH = \"lerobot/pusht\"\n",
    "\n",
    "dataset_metadata = LeRobotDatasetMetadata(DATASET_PATH)\n",
    "features = dataset_to_policy_features(dataset_metadata.features)\n",
    "output_features = {key: ft for key, ft in features.items() if ft.type is FeatureType.ACTION}\n",
    "input_features = {key: ft for key, ft in features.items() if key not in output_features}\n",
    "\n",
    "cfg = SMOLANDFASTConfig(input_features=input_features,\n",
    "                        output_features=output_features)\n",
    "\n",
    "delta_timestamps = {\n",
    "        \"action\": [i / dataset_metadata.fps for i in cfg.action_delta_indices],\n",
    "    }\n",
    "\n",
    "# We can then instantiate the dataset with these delta_timestamps configuration.\n",
    "dataset = LeRobotDataset(DATASET_PATH, delta_timestamps=delta_timestamps)\n",
    "\n",
    "dataloader = torch.utils.data.DataLoader(\n",
    "    dataset,\n",
    "    num_workers=0,\n",
    "    batch_size=2,\n",
    "    shuffle=True,\n",
    "    pin_memory=device.type != \"cpu\",\n",
    "    drop_last=True,\n",
    ")\n",
    "dl_iter = cycle(dataloader)\n",
    "\n"
   ]
  },
  {
   "cell_type": "code",
   "execution_count": null,
   "id": "fbaf9fd2",
   "metadata": {},
   "outputs": [],
   "source": [
    "policy = SMOLANDFASTPolicy(cfg,\n",
    "                           dataset_stats=dataset_metadata.stats)\n",
    "policy.train()\n",
    "policy.to(device)\n",
    "\n",
    "preprocessor, postprocessor = make_pre_post_processors(policy.config, dataset_stats=dataset.meta.stats)\n",
    "\n",
    "optimizer = torch.optim.Adam(policy.parameters(), lr=5e-5)"
   ]
  },
  {
   "cell_type": "code",
   "execution_count": null,
   "id": "43fb4be6",
   "metadata": {},
   "outputs": [],
   "source": [
    "raw_batch = next(dl_iter)\n",
    "batch = preprocessor(raw_batch)"
   ]
  },
  {
   "cell_type": "code",
   "execution_count": null,
   "id": "5ab062ae",
   "metadata": {},
   "outputs": [],
   "source": [
    "for step in tqdm(range(50)):\n",
    "\n",
    "    # batch = {k: (v.to(device) if isinstance(v, torch.Tensor) else v) for k, v in batch.items()}\n",
    "    loss, _ = policy.forward(batch)\n",
    "    \n",
    "    loss.backward()\n",
    "    optimizer.step()\n",
    "    optimizer.zero_grad()\n",
    "\n",
    "    print(f\"step: {step} loss: {loss.item():.3f}\")"
   ]
  },
  {
   "cell_type": "markdown",
   "id": "701716c6",
   "metadata": {},
   "source": []
  },
  {
   "cell_type": "code",
   "execution_count": null,
   "id": "22b833de",
   "metadata": {},
   "outputs": [],
   "source": [
    "decoded_actions = policy.model.generate_actions(batch)\n",
    "decoded_actions = postprocessor(decoded_actions)\n",
    "error:torch.tensor = torch.sqrt((decoded_actions - batch[\"action\"])**2)\n",
    "\n",
    "print(f\"RMSE {(error.mean(dim=1)*100).tolist()}%\")"
   ]
  }
 ],
 "metadata": {
  "kernelspec": {
   "display_name": ".lerobot",
   "language": "python",
   "name": "python3"
  },
  "language_info": {
   "codemirror_mode": {
    "name": "ipython",
    "version": 3
   },
   "file_extension": ".py",
   "mimetype": "text/x-python",
   "name": "python",
   "nbconvert_exporter": "python",
   "pygments_lexer": "ipython3",
   "version": "3.11.8"
  }
 },
 "nbformat": 4,
 "nbformat_minor": 5
}
